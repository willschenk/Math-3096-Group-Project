{
 "cells": [
  {
   "cell_type": "markdown",
   "metadata": {},
   "source": [
    "# Project for Math 3096 \n",
    "## Public-Key Cryptography \n",
    "\n",
    "### Your project should include the following components: \n",
    "1. A brief history leading up to the ideas in your subject. \n",
    "2. A mathematical description of your topic. \n",
    "3. Some examples and applications of your topic. \n",
    "\n",
    "### Requirements: \n",
    "- Collaboration at all levels is encouraged, but each member of the group is\n",
    "responsible for writing one of the above components. \n",
    "- Please indicate authorship in your part of the write-up.\n",
    "- The write-up cannot be written by hand \n",
    "- Each author must use at least two different sources for information. \n",
    "- A list of references of the sources used must be included in your write-up \n",
    "- The completed write-up of the project can be no longer than 10 pages total \n",
    "- 15 minute presentation \n",
    "\n",
    "### Due Dates: \n",
    "- By Friday, November 10th everyone must have communicated with the instructor. Resources used must be identified and approved by the instructor. A summary of what you hope to achieve should be given.\n",
    "- By Friday, Nov 24th a draft of the write-up needs to be given to the instructor for comments. Within a week of submitting the draft, students should meet individually, or in groups, with the instructor for comments and feedback. \n",
    "- By Wednesday, November 29th a revised version of the written account of your project should be submitted to the instructor. \n",
    "- Presentations will take place during the last week of classes, including in recitation.\n",
    "- The final version of the written portion of the project is due at the time of the presentation.\n",
    "\n",
    "\n",
    "### Will \n",
    "- Public-key cryptography is related to one-way functions and finite fields. \n",
    "- Formal inception of public key cryptography (1970s) \n",
    "    - James H. Ellis, Clifford Cocks, Malcolm J. Williamson \n",
    "        - RSA Algorithm and Diffie-Hellman Key Exchange \n",
    "- RSA (Rivest, Shamir, and Adelman (1977)) \n",
    "    - Take $p, q \\in \\mathbb{Z}, n = pq$ s.t. $p$ and $q$ are prime. \n",
    "        - Let $p, q$ be the private keys. \n",
    "\n",
    "## Part 1: A brief history leading up to the ideas in your subject. \n",
    "## Part 2: A mathematical description of your topic. \n",
    "## Part 3: Some examples and applications of your topic. "
   ]
  }
 ],
 "metadata": {
  "kernelspec": {
   "display_name": "Python 3",
   "language": "python",
   "name": "python3"
  },
  "language_info": {
   "codemirror_mode": {
    "name": "ipython",
    "version": 3
   },
   "file_extension": ".py",
   "mimetype": "text/x-python",
   "name": "python",
   "nbconvert_exporter": "python",
   "pygments_lexer": "ipython3",
   "version": "3.9.0"
  }
 },
 "nbformat": 4,
 "nbformat_minor": 4
}
